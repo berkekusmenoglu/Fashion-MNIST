{
  "nbformat": 4,
  "nbformat_minor": 0,
  "metadata": {
    "colab": {
      "name": "Copy of Fashion-Mnist.ipynb",
      "provenance": [],
      "collapsed_sections": []
    },
    "kernelspec": {
      "name": "python3",
      "display_name": "Python 3"
    },
    "language_info": {
      "name": "python"
    }
  },
  "cells": [
    {
      "cell_type": "markdown",
      "source": [
        "## Machine Learning Project - Fashion-MNIST\n",
        "           \n",
        "## BERKE FURKAN KÜSMENOĞLU - 2041496\n"
      ],
      "metadata": {
        "id": "eduLuQKbTUyt"
      }
    },
    {
      "cell_type": "code",
      "metadata": {
        "id": "490C2OoPs4PX"
      },
      "source": [
        "import numpy as np\n",
        "from urllib.request import urlopen\n",
        "\n",
        "def load_fashion_mnist():\n",
        "\n",
        "    url_base = \"https://www.math.unipd.it/~dasan/\"\n",
        "    Y_train = np.frombuffer(urlopen(url_base + \"train-labels-idx1-ubyte\").read(), dtype=np.uint8, offset=8)\n",
        "    X_train = np.frombuffer(urlopen(url_base + \"train-images-idx3-ubyte\").read(), dtype=np.uint8, offset=16).reshape(len(Y_train), 784) # besides loadng \n",
        "                                                                                            #the data, I already flatten it into a vector\n",
        "    Y_test = np.frombuffer(urlopen(url_base + \"t10k-labels-idx1-ubyte\").read(), dtype=np.uint8, offset=8)\n",
        "    X_test = np.frombuffer(urlopen(url_base + \"t10k-images-idx3-ubyte\").read(), dtype=np.uint8, offset=16).reshape(len(Y_test), 784)\n",
        "\n",
        "    return X_train, Y_train, X_test, Y_test\n"
      ],
      "execution_count": 1,
      "outputs": []
    },
    {
      "cell_type": "code",
      "metadata": {
        "colab": {
          "base_uri": "https://localhost:8080/"
        },
        "id": "CPzMfoAKxhxQ",
        "outputId": "4f1ae5e2-c207-4905-bc45-74aa1227c978"
      },
      "source": [
        "X_train, Y_train, X_test, Y_test = load_fashion_mnist() # you can use this function (copying the whole box) in your code to easily load the data\n",
        "print(X_train.shape, Y_train.shape, X_test.shape, Y_test.shape)\n"
      ],
      "execution_count": 2,
      "outputs": [
        {
          "output_type": "stream",
          "name": "stdout",
          "text": [
            "(60000, 784) (60000,) (10000, 784) (10000,)\n"
          ]
        }
      ]
    },
    {
      "cell_type": "markdown",
      "source": [
        "## Importing Libraries"
      ],
      "metadata": {
        "id": "HN97oSyUDD7t"
      }
    },
    {
      "cell_type": "code",
      "source": [
        "import matplotlib.pyplot as plt\n",
        "import pandas as pd\n",
        "import tensorflow as tf\n",
        "from tensorflow.keras.models import Sequential\n",
        "from tensorflow.keras.layers import Input, Dense \n",
        "from tensorflow.keras.utils import to_categorical \n",
        "from keras.utils.vis_utils import plot_model\n",
        "from tensorflow.python.framework.random_seed import set_random_seed\n",
        "from sklearn.preprocessing import StandardScaler\n",
        "from keras.layers import Flatten,Dense\n",
        "from sklearn.model_selection import train_test_split"
      ],
      "metadata": {
        "id": "UHscCus3DBxD"
      },
      "execution_count": 3,
      "outputs": []
    },
    {
      "cell_type": "markdown",
      "source": [
        "## Viewing Our Dimensions and Data\n",
        "\n",
        "\n"
      ],
      "metadata": {
        "id": "Sqm7Ex2DD6e_"
      }
    },
    {
      "cell_type": "code",
      "source": [
        "print('Train: ', X_train.shape, Y_train.shape)\n",
        "print('Test: ', X_test.shape, Y_test.shape)"
      ],
      "metadata": {
        "colab": {
          "base_uri": "https://localhost:8080/"
        },
        "id": "c708QO97Dgt1",
        "outputId": "c0463d41-ed74-4da8-c002-5571727d27c5"
      },
      "execution_count": 4,
      "outputs": [
        {
          "output_type": "stream",
          "name": "stdout",
          "text": [
            "Train:  (60000, 784) (60000,)\n",
            "Test:  (10000, 784) (10000,)\n"
          ]
        }
      ]
    },
    {
      "cell_type": "code",
      "source": [
        "image= X_train[789, :].reshape((28,28))\n",
        "plt.imshow(image)\n",
        "plt.show"
      ],
      "metadata": {
        "colab": {
          "base_uri": "https://localhost:8080/",
          "height": 282
        },
        "id": "aENs5LZ8SmvF",
        "outputId": "c173d4f8-d175-4bb4-c2a4-cebb18a05d87"
      },
      "execution_count": 5,
      "outputs": [
        {
          "output_type": "execute_result",
          "data": {
            "text/plain": [
              "<function matplotlib.pyplot.show>"
            ]
          },
          "metadata": {},
          "execution_count": 5
        },
        {
          "output_type": "display_data",
          "data": {
            "image/png": "[encoded data removed]",
            "text/plain": [
              "<Figure size 432x288 with 1 Axes>"
            ]
          },
          "metadata": {
            "needs_background": "light"
          }
        }
      ]
    },
    {
      "cell_type": "markdown",
      "source": [
        "## Processing Our Data"
      ],
      "metadata": {
        "id": "6IoL8x0yF24S"
      }
    },
    {
      "cell_type": "code",
      "source": [
        "#seed\n",
        "np.random.seed(123)\n",
        "set_random_seed(2)\n"
      ],
      "metadata": {
        "id": "17bZPzQaFHvR"
      },
      "execution_count": 6,
      "outputs": []
    },
    {
      "cell_type": "code",
      "source": [
        "X_train, X_val, Y_train, Y_val = train_test_split(\n",
        "    X_train, Y_train, test_size=0.2, shuffle=False\n",
        ")"
      ],
      "metadata": {
        "id": "ugJvwGFNFllO"
      },
      "execution_count": 7,
      "outputs": []
    },
    {
      "cell_type": "markdown",
      "source": [
        "## Normalization"
      ],
      "metadata": {
        "id": "bMpMTMgkFrgI"
      }
    },
    {
      "cell_type": "code",
      "source": [
        "X_train = X_train.astype('float32') / 255\n",
        "X_test = X_test.astype('float32') / 255"
      ],
      "metadata": {
        "id": "8xAfe7Sh8pXt"
      },
      "execution_count": 8,
      "outputs": []
    },
    {
      "cell_type": "markdown",
      "source": [
        "## Categorization"
      ],
      "metadata": {
        "id": "_KSxNQPIG89b"
      }
    },
    {
      "cell_type": "code",
      "source": [
        "labels = set(Y_train)\n",
        "feature_vector_length = X_train.shape[1] #number  features\n",
        "num_classes = len(labels) #number of classes\n",
        "\n",
        "\n",
        "y_train_cat = to_categorical(Y_train, num_classes)\n",
        "y_test_cat = to_categorical(Y_test, num_classes)"
      ],
      "metadata": {
        "id": "lyrHR4M3HDkW"
      },
      "execution_count": 9,
      "outputs": []
    },
    {
      "cell_type": "markdown",
      "source": [
        "## Creating The Model"
      ],
      "metadata": {
        "id": "9TQyfez_He6p"
      }
    },
    {
      "cell_type": "code",
      "source": [
        "model = tf.keras.models.Sequential([\n",
        "    tf.keras.layers.Flatten(),\n",
        "    tf.keras.layers.Dense(input_dim=feature_vector_length, units=feature_vector_length, activation=tf.nn.relu),\n",
        "    tf.keras.layers.Dense(128, activation=tf.nn.relu),\n",
        "    tf.keras.layers.Dense(128, activation=tf.nn.relu),\n",
        "    tf.keras.layers.Dense(10, activation=tf.nn.softmax)\n",
        "])\n",
        "\n",
        "\n",
        "model.compile(loss='categorical_crossentropy', \n",
        "              optimizer='adam',  \n",
        "              metrics=['accuracy']) \n",
        "  \n",
        "\n",
        "#train our model\n",
        "history = model.fit(X_train, y_train_cat, epochs=10, batch_size=16, verbose=1, validation_split=0.2)\n",
        "\n",
        "#see how the model looks like\n",
        "print(model.summary())"
      ],
      "metadata": {
        "colab": {
          "base_uri": "https://localhost:8080/"
        },
        "id": "9c9qny12xMiQ",
        "outputId": "7c296e82-8e15-4ea6-df5c-ed249132dd6f"
      },
      "execution_count": 10,
      "outputs": [
        {
          "output_type": "stream",
          "name": "stdout",
          "text": [
            "Epoch 1/10\n",
            "300/300 [==============================] - 4s 12ms/step - loss: 0.5389 - accuracy: 0.8102 - val_loss: 0.3942 - val_accuracy: 0.8629\n",
            "Epoch 2/10\n",
            "300/300 [==============================] - 3s 11ms/step - loss: 0.3832 - accuracy: 0.8603 - val_loss: 0.3621 - val_accuracy: 0.8700\n",
            "Epoch 3/10\n",
            "300/300 [==============================] - 3s 11ms/step - loss: 0.3370 - accuracy: 0.8750 - val_loss: 0.3500 - val_accuracy: 0.8743\n",
            "Epoch 4/10\n",
            "300/300 [==============================] - 3s 11ms/step - loss: 0.3094 - accuracy: 0.8848 - val_loss: 0.3322 - val_accuracy: 0.8808\n",
            "Epoch 5/10\n",
            "300/300 [==============================] - 3s 11ms/step - loss: 0.2955 - accuracy: 0.8884 - val_loss: 0.3217 - val_accuracy: 0.8813\n",
            "Epoch 6/10\n",
            "300/300 [==============================] - 3s 11ms/step - loss: 0.2788 - accuracy: 0.8944 - val_loss: 0.3178 - val_accuracy: 0.8878\n",
            "Epoch 7/10\n",
            "300/300 [==============================] - 3s 11ms/step - loss: 0.2630 - accuracy: 0.9013 - val_loss: 0.3264 - val_accuracy: 0.8833\n",
            "Epoch 8/10\n",
            "300/300 [==============================] - 3s 11ms/step - loss: 0.2526 - accuracy: 0.9052 - val_loss: 0.3199 - val_accuracy: 0.8879\n",
            "Epoch 9/10\n",
            "300/300 [==============================] - 3s 11ms/step - loss: 0.2371 - accuracy: 0.9119 - val_loss: 0.3100 - val_accuracy: 0.8900\n",
            "Epoch 10/10\n",
            "300/300 [==============================] - 3s 11ms/step - loss: 0.2295 - accuracy: 0.9142 - val_loss: 0.3056 - val_accuracy: 0.8923\n",
            "Model: \"sequential\"\n",
            "_________________________________________________________________\n",
            " Layer (type)                Output Shape              Param #   \n",
            "=================================================================\n",
            " flatten (Flatten)           (128, 784)                0         \n",
            "                                                                 \n",
            " dense (Dense)               (128, 784)                615440    \n",
            "                                                                 \n",
            " dense_1 (Dense)             (128, 128)                100480    \n",
            "                                                                 \n",
            " dense_2 (Dense)             (128, 128)                16512     \n",
            "                                                                 \n",
            " dense_3 (Dense)             (128, 10)                 1290      \n",
            "                                                                 \n",
            "=================================================================\n",
            "Total params: 733,722\n",
            "Trainable params: 733,722\n",
            "Non-trainable params: 0\n",
            "_________________________________________________________________\n",
            "None\n"
          ]
        }
      ]
    },
    {
      "cell_type": "code",
      "source": [
        "# summarize history for accuracy\n",
        "plt.plot(history.history['accuracy'])\n",
        "plt.plot(history.history['val_accuracy'])\n",
        "plt.title('model accuracy')\n",
        "plt.ylabel('accuracy')\n",
        "plt.xlabel('epoch')\n",
        "plt.legend(['train', 'val'], loc='upper left')\n",
        "# plt.ylim(0.8, 1)\n",
        "plt.show()"
      ],
      "metadata": {
        "colab": {
          "base_uri": "https://localhost:8080/",
          "height": 295
        },
        "id": "iotv80ObEmtR",
        "outputId": "f38497cf-fbf7-46ee-ff40-60fb1f28f497"
      },
      "execution_count": 11,
      "outputs": [
        {
          "output_type": "display_data",
          "data": {
            "image/png": "[encoded data removed]",
            "text/plain": [
              "<Figure size 432x288 with 1 Axes>"
            ]
          },
          "metadata": {
            "needs_background": "light"
          }
        }
      ]
    },
    {
      "cell_type": "code",
      "source": [
        "# summarize history for loss\n",
        "plt.plot(history.history['loss'])\n",
        "plt.plot(history.history['val_loss'])\n",
        "plt.title('model loss')\n",
        "plt.ylabel('loss')\n",
        "plt.xlabel('epoch')\n",
        "plt.legend(['train', 'val'], loc='upper left')\n",
        "plt.show()"
      ],
      "metadata": {
        "colab": {
          "base_uri": "https://localhost:8080/",
          "height": 295
        },
        "id": "KZGVmGiEE1o8",
        "outputId": "6722d536-4974-47a2-b532-2b08ca0dcd55"
      },
      "execution_count": 12,
      "outputs": [
        {
          "output_type": "display_data",
          "data": {
            "image/png": "[encoded data removed]",
            "text/plain": [
              "<Figure size 432x288 with 1 Axes>"
            ]
          },
          "metadata": {
            "needs_background": "light"
          }
        }
      ]
    },
    {
      "cell_type": "code",
      "source": [
        "test_results = model.evaluate(X_test, y_test_cat, verbose=1)\n",
        "print(f'Test results - Loss: {test_results[0]} - Accuracy: {test_results[1]}%')"
      ],
      "metadata": {
        "colab": {
          "base_uri": "https://localhost:8080/"
        },
        "id": "x5TVMYZFE7ax",
        "outputId": "69216bfb-4194-42b8-a36f-e724545ea4ac"
      },
      "execution_count": 13,
      "outputs": [
        {
          "output_type": "stream",
          "name": "stdout",
          "text": [
            "313/313 [==============================] - 1s 3ms/step - loss: 0.3415 - accuracy: 0.8806\n",
            "Test results - Loss: 0.3414803445339203 - Accuracy: 0.8805999755859375%\n"
          ]
        }
      ]
    },
    {
      "cell_type": "markdown",
      "source": [
        "  ## Experiment on adding more layers to see the differences.\n",
        "\n",
        "\n",
        "\n"
      ],
      "metadata": {
        "id": "fVRe3WGJ1DLY"
      }
    },
    {
      "cell_type": "code",
      "source": [
        "model_1 = tf.keras.models.Sequential([\n",
        "    tf.keras.layers.Flatten(),\n",
        "    tf.keras.layers.Dense(input_dim=feature_vector_length, units=feature_vector_length, activation=tf.nn.relu),\n",
        "    tf.keras.layers.Dense(128, activation=tf.nn.relu),\n",
        "    tf.keras.layers.Dense(128, activation=tf.nn.relu),\n",
        "    tf.keras.layers.Dense(128, activation=tf.nn.relu),\n",
        "    tf.keras.layers.Dense(128, activation=tf.nn.relu),\n",
        "    tf.keras.layers.Dense(128, activation=tf.nn.relu),\n",
        "    tf.keras.layers.Dense(128, activation=tf.nn.relu),\n",
        "    tf.keras.layers.Dense(128, activation=tf.nn.relu),\n",
        "    tf.keras.layers.Dense(10, activation=tf.nn.softmax)\n",
        "])\n",
        "\n",
        "\n",
        "model_1.compile(loss='categorical_crossentropy', \n",
        "              optimizer='adam',  \n",
        "              metrics=['accuracy']) \n",
        "  \n",
        "\n",
        "#train our model\n",
        "history_1 = model_1.fit(X_train, y_train_cat, epochs=10, batch_size=16, verbose=1, validation_split=0.2)\n",
        "\n",
        "#see how the model looks like\n",
        "print(model.summary())"
      ],
      "metadata": {
        "colab": {
          "base_uri": "https://localhost:8080/"
        },
        "id": "3e5qikPr1BxS",
        "outputId": "defcd887-057b-4d6b-8748-50d33c8ec105"
      },
      "execution_count": 17,
      "outputs": [
        {
          "output_type": "stream",
          "name": "stdout",
          "text": [
            "Epoch 1/10\n",
            "300/300 [==============================] - 5s 14ms/step - loss: 0.6345 - accuracy: 0.7667 - val_loss: 0.4338 - val_accuracy: 0.8470\n",
            "Epoch 2/10\n",
            "300/300 [==============================] - 4s 13ms/step - loss: 0.4120 - accuracy: 0.8499 - val_loss: 0.3849 - val_accuracy: 0.8594\n",
            "Epoch 3/10\n",
            "300/300 [==============================] - 4s 13ms/step - loss: 0.3665 - accuracy: 0.8656 - val_loss: 0.3603 - val_accuracy: 0.8725\n",
            "Epoch 4/10\n",
            "300/300 [==============================] - 4s 13ms/step - loss: 0.3296 - accuracy: 0.8780 - val_loss: 0.3535 - val_accuracy: 0.8736\n",
            "Epoch 5/10\n",
            "300/300 [==============================] - 4s 13ms/step - loss: 0.3183 - accuracy: 0.8822 - val_loss: 0.3452 - val_accuracy: 0.8716\n",
            "Epoch 6/10\n",
            "300/300 [==============================] - 4s 13ms/step - loss: 0.2987 - accuracy: 0.8890 - val_loss: 0.3379 - val_accuracy: 0.8819\n",
            "Epoch 7/10\n",
            "300/300 [==============================] - 4s 13ms/step - loss: 0.2839 - accuracy: 0.8935 - val_loss: 0.3495 - val_accuracy: 0.8773\n",
            "Epoch 8/10\n",
            "300/300 [==============================] - 4s 13ms/step - loss: 0.2741 - accuracy: 0.8981 - val_loss: 0.3700 - val_accuracy: 0.8635\n",
            "Epoch 9/10\n",
            "300/300 [==============================] - 4s 13ms/step - loss: 0.2654 - accuracy: 0.9017 - val_loss: 0.3267 - val_accuracy: 0.8836\n",
            "Epoch 10/10\n",
            "300/300 [==============================] - 4s 13ms/step - loss: 0.2575 - accuracy: 0.9045 - val_loss: 0.3081 - val_accuracy: 0.8943\n",
            "Model: \"sequential\"\n",
            "_________________________________________________________________\n",
            " Layer (type)                Output Shape              Param #   \n",
            "=================================================================\n",
            " flatten (Flatten)           (None, 784)               0         \n",
            "                                                                 \n",
            " dense (Dense)               (None, 784)               615440    \n",
            "                                                                 \n",
            " dense_1 (Dense)             (None, 128)               100480    \n",
            "                                                                 \n",
            " dense_2 (Dense)             (None, 128)               16512     \n",
            "                                                                 \n",
            " dense_3 (Dense)             (None, 10)                1290      \n",
            "                                                                 \n",
            "=================================================================\n",
            "Total params: 733,722\n",
            "Trainable params: 733,722\n",
            "Non-trainable params: 0\n",
            "_________________________________________________________________\n",
            "None\n"
          ]
        }
      ]
    },
    {
      "cell_type": "code",
      "source": [
        "# summarize history for accuracy\n",
        "plt.plot(history_1.history['accuracy'])\n",
        "plt.plot(history_1.history['val_accuracy'])\n",
        "plt.title('model accuracy')\n",
        "plt.ylabel('accuracy')\n",
        "plt.xlabel('epoch')\n",
        "plt.legend(['train', 'val'], loc='upper left')\n",
        "# plt.ylim(0.8, 1)\n",
        "plt.show()"
      ],
      "metadata": {
        "colab": {
          "base_uri": "https://localhost:8080/",
          "height": 295
        },
        "id": "sSl9Vwhg3L-7",
        "outputId": "d06fa9ad-5b26-4c84-c7a3-e6d1967d366f"
      },
      "execution_count": 18,
      "outputs": [
        {
          "output_type": "display_data",
          "data": {
            "image/png": "[encoded data removed]",
            "text/plain": [
              "<Figure size 432x288 with 1 Axes>"
            ]
          },
          "metadata": {
            "needs_background": "light"
          }
        }
      ]
    },
    {
      "cell_type": "code",
      "source": [
        "# summarize history for loss\n",
        "plt.plot(history_1.history['loss'])\n",
        "plt.plot(history_1.history['val_loss'])\n",
        "plt.title('model loss')\n",
        "plt.ylabel('loss')\n",
        "plt.xlabel('epoch')\n",
        "plt.legend(['train', 'val'], loc='upper left')\n",
        "plt.show()"
      ],
      "metadata": {
        "colab": {
          "base_uri": "https://localhost:8080/",
          "height": 295
        },
        "id": "-b3geWnh3OWf",
        "outputId": "0bed0ca5-17b7-4496-9d6d-75b84e1a9640"
      },
      "execution_count": 19,
      "outputs": [
        {
          "output_type": "display_data",
          "data": {
            "image/png": "[encoded data removed]",
            "text/plain": [
              "<Figure size 432x288 with 1 Axes>"
            ]
          },
          "metadata": {
            "needs_background": "light"
          }
        }
      ]
    },
    {
      "cell_type": "code",
      "source": [
        "test_results = model_1.evaluate(X_test, y_test_cat, verbose=1)\n",
        "print(f'Test results - Loss: {test_results[0]} - Accuracy: {test_results[1]}%')"
      ],
      "metadata": {
        "colab": {
          "base_uri": "https://localhost:8080/"
        },
        "id": "ONge322UNj8w",
        "outputId": "9cc0b778-bcc6-463b-89b5-8dc714f0e3fb"
      },
      "execution_count": 17,
      "outputs": [
        {
          "output_type": "stream",
          "name": "stdout",
          "text": [
            "313/313 [==============================] - 1s 3ms/step - loss: 0.3888 - accuracy: 0.8732\n",
            "Test results - Loss: 0.3888019025325775 - Accuracy: 0.873199999332428%\n"
          ]
        }
      ]
    },
    {
      "cell_type": "markdown",
      "source": [
        "## Experiment on increasing the nubmer of epoches of the first model and see the differences\n",
        "\n",
        "\n"
      ],
      "metadata": {
        "id": "oOPCORwx4JMX"
      }
    },
    {
      "cell_type": "code",
      "source": [
        "model_2 = tf.keras.models.Sequential([\n",
        "    tf.keras.layers.Flatten(),\n",
        "    tf.keras.layers.Dense(input_dim=feature_vector_length, units=feature_vector_length, activation=tf.nn.relu),\n",
        "    tf.keras.layers.Dense(128, activation=tf.nn.relu),\n",
        "    tf.keras.layers.Dense(128, activation=tf.nn.relu),\n",
        "    tf.keras.layers.Dense(10, activation=tf.nn.softmax)\n",
        "])\n",
        "\n",
        "\n",
        "model_2.compile(loss='categorical_crossentropy', \n",
        "              optimizer='adam',  \n",
        "              metrics=['accuracy']) \n",
        "  \n",
        "\n",
        "#train our model\n",
        "history_2 = model_2.fit(X_train, y_train_cat, epochs=50, batch_size=16, verbose=1, validation_split=0.2)\n",
        "\n",
        "#see how the model looks like\n",
        "print(model_2.summary())"
      ],
      "metadata": {
        "colab": {
          "base_uri": "https://localhost:8080/"
        },
        "id": "zOYp-LUS4Sy3",
        "outputId": "ec72d565-1946-4ea0-c71a-f8a6a8132fe3"
      },
      "execution_count": 19,
      "outputs": [
        {
          "output_type": "stream",
          "name": "stdout",
          "text": [
            "Epoch 1/50\n",
            "2400/2400 [==============================] - 13s 5ms/step - loss: 0.5307 - accuracy: 0.8075 - val_loss: 0.4231 - val_accuracy: 0.8491\n",
            "Epoch 2/50\n",
            "2400/2400 [==============================] - 12s 5ms/step - loss: 0.3912 - accuracy: 0.8547 - val_loss: 0.3840 - val_accuracy: 0.8578\n",
            "Epoch 3/50\n",
            "2400/2400 [==============================] - 12s 5ms/step - loss: 0.3518 - accuracy: 0.8701 - val_loss: 0.3546 - val_accuracy: 0.8770\n",
            "Epoch 4/50\n",
            "2400/2400 [==============================] - 12s 5ms/step - loss: 0.3253 - accuracy: 0.8810 - val_loss: 0.3466 - val_accuracy: 0.8764\n",
            "Epoch 5/50\n",
            "2400/2400 [==============================] - 12s 5ms/step - loss: 0.3010 - accuracy: 0.8874 - val_loss: 0.3498 - val_accuracy: 0.8808\n",
            "Epoch 6/50\n",
            "2400/2400 [==============================] - 12s 5ms/step - loss: 0.2900 - accuracy: 0.8930 - val_loss: 0.3431 - val_accuracy: 0.8841\n",
            "Epoch 7/50\n",
            "2400/2400 [==============================] - 12s 5ms/step - loss: 0.2775 - accuracy: 0.8959 - val_loss: 0.3275 - val_accuracy: 0.8847\n",
            "Epoch 8/50\n",
            "2400/2400 [==============================] - 12s 5ms/step - loss: 0.2652 - accuracy: 0.9006 - val_loss: 0.3370 - val_accuracy: 0.8856\n",
            "Epoch 9/50\n",
            "2400/2400 [==============================] - 12s 5ms/step - loss: 0.2572 - accuracy: 0.9025 - val_loss: 0.3359 - val_accuracy: 0.8832\n",
            "Epoch 10/50\n",
            "2400/2400 [==============================] - 12s 5ms/step - loss: 0.2490 - accuracy: 0.9058 - val_loss: 0.3395 - val_accuracy: 0.8893\n",
            "Epoch 11/50\n",
            "2400/2400 [==============================] - 12s 5ms/step - loss: 0.2404 - accuracy: 0.9092 - val_loss: 0.3443 - val_accuracy: 0.8868\n",
            "Epoch 12/50\n",
            "2400/2400 [==============================] - 12s 5ms/step - loss: 0.2354 - accuracy: 0.9118 - val_loss: 0.3497 - val_accuracy: 0.8829\n",
            "Epoch 13/50\n",
            "2400/2400 [==============================] - 12s 5ms/step - loss: 0.2243 - accuracy: 0.9144 - val_loss: 0.3981 - val_accuracy: 0.8791\n",
            "Epoch 14/50\n",
            "2400/2400 [==============================] - 12s 5ms/step - loss: 0.2184 - accuracy: 0.9171 - val_loss: 0.3874 - val_accuracy: 0.8902\n",
            "Epoch 15/50\n",
            "2400/2400 [==============================] - 12s 5ms/step - loss: 0.2135 - accuracy: 0.9200 - val_loss: 0.3575 - val_accuracy: 0.8908\n",
            "Epoch 16/50\n",
            "2400/2400 [==============================] - 12s 5ms/step - loss: 0.2076 - accuracy: 0.9206 - val_loss: 0.3769 - val_accuracy: 0.8851\n",
            "Epoch 17/50\n",
            "2400/2400 [==============================] - 12s 5ms/step - loss: 0.2000 - accuracy: 0.9229 - val_loss: 0.3897 - val_accuracy: 0.8929\n",
            "Epoch 18/50\n",
            "2400/2400 [==============================] - 12s 5ms/step - loss: 0.1995 - accuracy: 0.9243 - val_loss: 0.3822 - val_accuracy: 0.8929\n",
            "Epoch 19/50\n",
            "2400/2400 [==============================] - 12s 5ms/step - loss: 0.1890 - accuracy: 0.9280 - val_loss: 0.4031 - val_accuracy: 0.8913\n",
            "Epoch 20/50\n",
            "2400/2400 [==============================] - 12s 5ms/step - loss: 0.1879 - accuracy: 0.9286 - val_loss: 0.4056 - val_accuracy: 0.8935\n",
            "Epoch 21/50\n",
            "2400/2400 [==============================] - 12s 5ms/step - loss: 0.1804 - accuracy: 0.9315 - val_loss: 0.4564 - val_accuracy: 0.8900\n",
            "Epoch 22/50\n",
            "2400/2400 [==============================] - 12s 5ms/step - loss: 0.1779 - accuracy: 0.9329 - val_loss: 0.4173 - val_accuracy: 0.8944\n",
            "Epoch 23/50\n",
            "2400/2400 [==============================] - 12s 5ms/step - loss: 0.1741 - accuracy: 0.9329 - val_loss: 0.4408 - val_accuracy: 0.8922\n",
            "Epoch 24/50\n",
            "2400/2400 [==============================] - 12s 5ms/step - loss: 0.1721 - accuracy: 0.9346 - val_loss: 0.4756 - val_accuracy: 0.8897\n",
            "Epoch 25/50\n",
            "2400/2400 [==============================] - 12s 5ms/step - loss: 0.1664 - accuracy: 0.9375 - val_loss: 0.4693 - val_accuracy: 0.8904\n",
            "Epoch 26/50\n",
            "2400/2400 [==============================] - 12s 5ms/step - loss: 0.1673 - accuracy: 0.9371 - val_loss: 0.4333 - val_accuracy: 0.8932\n",
            "Epoch 27/50\n",
            "2400/2400 [==============================] - 12s 5ms/step - loss: 0.1577 - accuracy: 0.9390 - val_loss: 0.4626 - val_accuracy: 0.8963\n",
            "Epoch 28/50\n",
            "2400/2400 [==============================] - 12s 5ms/step - loss: 0.1615 - accuracy: 0.9396 - val_loss: 0.5161 - val_accuracy: 0.8906\n",
            "Epoch 29/50\n",
            "2400/2400 [==============================] - 12s 5ms/step - loss: 0.1631 - accuracy: 0.9404 - val_loss: 0.4776 - val_accuracy: 0.8927\n",
            "Epoch 30/50\n",
            "2400/2400 [==============================] - 11s 5ms/step - loss: 0.1536 - accuracy: 0.9421 - val_loss: 0.4742 - val_accuracy: 0.8968\n",
            "Epoch 31/50\n",
            "2400/2400 [==============================] - 12s 5ms/step - loss: 0.1519 - accuracy: 0.9425 - val_loss: 0.4594 - val_accuracy: 0.8954\n",
            "Epoch 32/50\n",
            "2400/2400 [==============================] - 12s 5ms/step - loss: 0.1527 - accuracy: 0.9430 - val_loss: 0.4378 - val_accuracy: 0.8984\n",
            "Epoch 33/50\n",
            "2400/2400 [==============================] - 12s 5ms/step - loss: 0.1489 - accuracy: 0.9434 - val_loss: 0.4994 - val_accuracy: 0.8903\n",
            "Epoch 34/50\n",
            "2400/2400 [==============================] - 11s 5ms/step - loss: 0.1406 - accuracy: 0.9466 - val_loss: 0.5305 - val_accuracy: 0.8874\n",
            "Epoch 35/50\n",
            "2400/2400 [==============================] - 12s 5ms/step - loss: 0.1412 - accuracy: 0.9461 - val_loss: 0.5285 - val_accuracy: 0.8911\n",
            "Epoch 36/50\n",
            "2400/2400 [==============================] - 11s 5ms/step - loss: 0.1418 - accuracy: 0.9467 - val_loss: 0.5539 - val_accuracy: 0.8993\n",
            "Epoch 37/50\n",
            "2400/2400 [==============================] - 12s 5ms/step - loss: 0.1355 - accuracy: 0.9486 - val_loss: 0.6394 - val_accuracy: 0.8942\n",
            "Epoch 38/50\n",
            "2400/2400 [==============================] - 11s 5ms/step - loss: 0.1390 - accuracy: 0.9490 - val_loss: 0.5554 - val_accuracy: 0.8961\n",
            "Epoch 39/50\n",
            "2400/2400 [==============================] - 11s 5ms/step - loss: 0.1357 - accuracy: 0.9488 - val_loss: 0.5542 - val_accuracy: 0.8980\n",
            "Epoch 40/50\n",
            "2400/2400 [==============================] - 11s 5ms/step - loss: 0.1273 - accuracy: 0.9511 - val_loss: 0.6052 - val_accuracy: 0.8978\n",
            "Epoch 41/50\n",
            "2400/2400 [==============================] - 12s 5ms/step - loss: 0.1318 - accuracy: 0.9520 - val_loss: 0.6365 - val_accuracy: 0.8927\n",
            "Epoch 42/50\n",
            "2400/2400 [==============================] - 12s 5ms/step - loss: 0.1299 - accuracy: 0.9524 - val_loss: 0.6074 - val_accuracy: 0.8919\n",
            "Epoch 43/50\n",
            "2400/2400 [==============================] - 11s 5ms/step - loss: 0.1250 - accuracy: 0.9538 - val_loss: 0.5768 - val_accuracy: 0.8955\n",
            "Epoch 44/50\n",
            "2400/2400 [==============================] - 12s 5ms/step - loss: 0.1256 - accuracy: 0.9543 - val_loss: 0.6533 - val_accuracy: 0.8936\n",
            "Epoch 45/50\n",
            "2400/2400 [==============================] - 12s 5ms/step - loss: 0.1217 - accuracy: 0.9558 - val_loss: 0.6951 - val_accuracy: 0.8976\n",
            "Epoch 46/50\n",
            "2400/2400 [==============================] - 11s 5ms/step - loss: 0.1207 - accuracy: 0.9552 - val_loss: 0.6149 - val_accuracy: 0.8891\n",
            "Epoch 47/50\n",
            "2400/2400 [==============================] - 12s 5ms/step - loss: 0.1192 - accuracy: 0.9555 - val_loss: 0.6460 - val_accuracy: 0.8965\n",
            "Epoch 48/50\n",
            "2400/2400 [==============================] - 12s 5ms/step - loss: 0.1178 - accuracy: 0.9558 - val_loss: 0.7009 - val_accuracy: 0.8972\n",
            "Epoch 49/50\n",
            "2400/2400 [==============================] - 12s 5ms/step - loss: 0.1167 - accuracy: 0.9566 - val_loss: 0.6735 - val_accuracy: 0.8970\n",
            "Epoch 50/50\n",
            "2400/2400 [==============================] - 12s 5ms/step - loss: 0.1177 - accuracy: 0.9580 - val_loss: 0.6508 - val_accuracy: 0.8953\n",
            "Model: \"sequential_3\"\n",
            "_________________________________________________________________\n",
            " Layer (type)                Output Shape              Param #   \n",
            "=================================================================\n",
            " flatten_3 (Flatten)         (16, 784)                 0         \n",
            "                                                                 \n",
            " dense_17 (Dense)            (16, 784)                 615440    \n",
            "                                                                 \n",
            " dense_18 (Dense)            (16, 128)                 100480    \n",
            "                                                                 \n",
            " dense_19 (Dense)            (16, 128)                 16512     \n",
            "                                                                 \n",
            " dense_20 (Dense)            (16, 10)                  1290      \n",
            "                                                                 \n",
            "=================================================================\n",
            "Total params: 733,722\n",
            "Trainable params: 733,722\n",
            "Non-trainable params: 0\n",
            "_________________________________________________________________\n",
            "None\n"
          ]
        }
      ]
    },
    {
      "cell_type": "code",
      "source": [
        "# summarize history for accuracy\n",
        "plt.plot(history_2.history['accuracy'])\n",
        "plt.plot(history_2.history['val_accuracy'])\n",
        "plt.title('model accuracy')\n",
        "plt.ylabel('accuracy')\n",
        "plt.xlabel('epoch')\n",
        "plt.legend(['train', 'val'], loc='upper left')\n",
        "# plt.ylim(0.8, 1)\n",
        "plt.show()"
      ],
      "metadata": {
        "colab": {
          "base_uri": "https://localhost:8080/",
          "height": 295
        },
        "id": "vtsDQHPH4a33",
        "outputId": "72af0644-9ce9-4b20-ea77-ee90f8ab1aa7"
      },
      "execution_count": 20,
      "outputs": [
        {
          "output_type": "display_data",
          "data": {
            "image/png": "[encoded data removed]",
            "text/plain": [
              "<Figure size 432x288 with 1 Axes>"
            ]
          },
          "metadata": {
            "needs_background": "light"
          }
        }
      ]
    },
    {
      "cell_type": "code",
      "source": [
        "# summarize history for loss\n",
        "plt.plot(history_2.history['loss'])\n",
        "plt.plot(history_2.history['val_loss'])\n",
        "plt.title('model loss')\n",
        "plt.ylabel('loss')\n",
        "plt.xlabel('epoch')\n",
        "plt.legend(['train', 'val'], loc='upper left')\n",
        "plt.show()"
      ],
      "metadata": {
        "colab": {
          "base_uri": "https://localhost:8080/",
          "height": 295
        },
        "id": "10PwPzCP4a6J",
        "outputId": "969420f7-efad-4182-e2de-02112edd3f85"
      },
      "execution_count": 21,
      "outputs": [
        {
          "output_type": "display_data",
          "data": {
            "image/png": "[encoded data removed]",
            "text/plain": [
              "<Figure size 432x288 with 1 Axes>"
            ]
          },
          "metadata": {
            "needs_background": "light"
          }
        }
      ]
    },
    {
      "cell_type": "code",
      "source": [
        "test_results = model_2.evaluate(X_test, y_test_cat, verbose=1)\n",
        "print(f'Test results - Loss: {test_results[0]} - Accuracy: {test_results[1]}%')"
      ],
      "metadata": {
        "colab": {
          "base_uri": "https://localhost:8080/"
        },
        "id": "NrACupCpQGkk",
        "outputId": "b1e56e12-ab17-415a-910b-5a4735ccab4b"
      },
      "execution_count": 22,
      "outputs": [
        {
          "output_type": "stream",
          "name": "stdout",
          "text": [
            "313/313 [==============================] - 1s 3ms/step - loss: 0.7401 - accuracy: 0.8863\n",
            "Test results - Loss: 0.7400808334350586 - Accuracy: 0.8863000273704529%\n"
          ]
        }
      ]
    },
    {
      "cell_type": "markdown",
      "source": [
        "## Experiment on increasing the batch size"
      ],
      "metadata": {
        "id": "7jIoLkal6hFW"
      }
    },
    {
      "cell_type": "code",
      "source": [
        "model_3 = tf.keras.models.Sequential([\n",
        "    tf.keras.layers.Flatten(),\n",
        "    tf.keras.layers.Dense(input_dim=feature_vector_length, units=feature_vector_length, activation=tf.nn.relu),\n",
        "    tf.keras.layers.Dense(128, activation=tf.nn.relu),\n",
        "    tf.keras.layers.Dense(128, activation=tf.nn.relu),\n",
        "    tf.keras.layers.Dense(10, activation=tf.nn.softmax)\n",
        "])\n",
        "\n",
        "\n",
        "model_3.compile(loss='categorical_crossentropy', \n",
        "              optimizer='adam',  \n",
        "              metrics=['accuracy']) \n",
        "  \n",
        "\n",
        "#train our model\n",
        "history_3 = model_3.fit(X_train, y_train_cat, epochs=10, batch_size=128, verbose=1, validation_split=0.2)\n",
        "\n",
        "#see how the model looks like\n",
        "print(model_3.summary())"
      ],
      "metadata": {
        "colab": {
          "base_uri": "https://localhost:8080/"
        },
        "id": "Y8G4WPEg6mOz",
        "outputId": "bcdcf971-e29a-47a6-d7b0-7520916ce9f4"
      },
      "execution_count": 23,
      "outputs": [
        {
          "output_type": "stream",
          "name": "stdout",
          "text": [
            "Epoch 1/10\n",
            "300/300 [==============================] - 4s 12ms/step - loss: 0.5409 - accuracy: 0.8061 - val_loss: 0.4044 - val_accuracy: 0.8581\n",
            "Epoch 2/10\n",
            "300/300 [==============================] - 4s 12ms/step - loss: 0.3847 - accuracy: 0.8595 - val_loss: 0.3644 - val_accuracy: 0.8707\n",
            "Epoch 3/10\n",
            "300/300 [==============================] - 4s 12ms/step - loss: 0.3398 - accuracy: 0.8748 - val_loss: 0.3415 - val_accuracy: 0.8769\n",
            "Epoch 4/10\n",
            "300/300 [==============================] - 4s 12ms/step - loss: 0.3119 - accuracy: 0.8835 - val_loss: 0.3256 - val_accuracy: 0.8809\n",
            "Epoch 5/10\n",
            "300/300 [==============================] - 4s 12ms/step - loss: 0.2979 - accuracy: 0.8887 - val_loss: 0.3282 - val_accuracy: 0.8782\n",
            "Epoch 6/10\n",
            "300/300 [==============================] - 4s 12ms/step - loss: 0.2813 - accuracy: 0.8949 - val_loss: 0.3158 - val_accuracy: 0.8879\n",
            "Epoch 7/10\n",
            "300/300 [==============================] - 4s 12ms/step - loss: 0.2647 - accuracy: 0.9014 - val_loss: 0.3203 - val_accuracy: 0.8850\n",
            "Epoch 8/10\n",
            "300/300 [==============================] - 4s 12ms/step - loss: 0.2556 - accuracy: 0.9044 - val_loss: 0.3272 - val_accuracy: 0.8833\n",
            "Epoch 9/10\n",
            "300/300 [==============================] - 4s 12ms/step - loss: 0.2397 - accuracy: 0.9103 - val_loss: 0.3099 - val_accuracy: 0.8852\n",
            "Epoch 10/10\n",
            "300/300 [==============================] - 4s 12ms/step - loss: 0.2342 - accuracy: 0.9120 - val_loss: 0.2994 - val_accuracy: 0.8946\n",
            "Model: \"sequential_4\"\n",
            "_________________________________________________________________\n",
            " Layer (type)                Output Shape              Param #   \n",
            "=================================================================\n",
            " flatten_4 (Flatten)         (128, 784)                0         \n",
            "                                                                 \n",
            " dense_21 (Dense)            (128, 784)                615440    \n",
            "                                                                 \n",
            " dense_22 (Dense)            (128, 128)                100480    \n",
            "                                                                 \n",
            " dense_23 (Dense)            (128, 128)                16512     \n",
            "                                                                 \n",
            " dense_24 (Dense)            (128, 10)                 1290      \n",
            "                                                                 \n",
            "=================================================================\n",
            "Total params: 733,722\n",
            "Trainable params: 733,722\n",
            "Non-trainable params: 0\n",
            "_________________________________________________________________\n",
            "None\n"
          ]
        }
      ]
    },
    {
      "cell_type": "code",
      "source": [
        "# summarize history for accuracy\n",
        "plt.plot(history_3.history['accuracy'])\n",
        "plt.plot(history_3.history['val_accuracy'])\n",
        "plt.title('model accuracy')\n",
        "plt.ylabel('accuracy')\n",
        "plt.xlabel('epoch')\n",
        "plt.legend(['train', 'val'], loc='upper left')\n",
        "# plt.ylim(0.8, 1)\n",
        "plt.show()"
      ],
      "metadata": {
        "colab": {
          "base_uri": "https://localhost:8080/",
          "height": 295
        },
        "id": "mScPebxc6mRj",
        "outputId": "fc4aa3d7-5289-4a68-8117-00e0398daf3d"
      },
      "execution_count": 24,
      "outputs": [
        {
          "output_type": "display_data",
          "data": {
            "image/png": "[encoded data removed]",
            "text/plain": [
              "<Figure size 432x288 with 1 Axes>"
            ]
          },
          "metadata": {
            "needs_background": "light"
          }
        }
      ]
    },
    {
      "cell_type": "code",
      "source": [
        "# summarize history for loss\n",
        "plt.plot(history_3.history['loss'])\n",
        "plt.plot(history_3.history['val_loss'])\n",
        "plt.title('model loss')\n",
        "plt.ylabel('loss')\n",
        "plt.xlabel('epoch')\n",
        "plt.legend(['train', 'val'], loc='upper left')\n",
        "plt.show()"
      ],
      "metadata": {
        "colab": {
          "base_uri": "https://localhost:8080/",
          "height": 295
        },
        "id": "76gb2tva6mUW",
        "outputId": "d370952d-01af-4c9e-dd78-bf7cb87593f2"
      },
      "execution_count": 25,
      "outputs": [
        {
          "output_type": "display_data",
          "data": {
            "image/png": "[encoded data removed]",
            "text/plain": [
              "<Figure size 432x288 with 1 Axes>"
            ]
          },
          "metadata": {
            "needs_background": "light"
          }
        }
      ]
    },
    {
      "cell_type": "code",
      "source": [
        "test_results = model_3.evaluate(X_test, y_test_cat, verbose=1)\n",
        "print(f'Test results - Loss: {test_results[0]} - Accuracy: {test_results[1]}%')"
      ],
      "metadata": {
        "colab": {
          "base_uri": "https://localhost:8080/"
        },
        "id": "7rLy-sv7QO2W",
        "outputId": "52d1b2d0-7aec-4083-f507-dba13ca012da"
      },
      "execution_count": 26,
      "outputs": [
        {
          "output_type": "stream",
          "name": "stdout",
          "text": [
            "313/313 [==============================] - 1s 3ms/step - loss: 0.3374 - accuracy: 0.8820\n",
            "Test results - Loss: 0.3373786509037018 - Accuracy: 0.8820000290870667%\n"
          ]
        }
      ]
    },
    {
      "cell_type": "code",
      "source": [
        "from sklearn.tree import DecisionTreeClassifier\n",
        "from sklearn.ensemble import RandomForestClassifier\n",
        "from sklearn.linear_model import LogisticRegression\n",
        "from sklearn.neighbors import KNeighborsClassifier\n",
        "from sklearn.svm import SVC\n",
        "from sklearn.model_selection import GridSearchCV\n",
        "from sklearn.metrics import f1_score\n",
        "from keras.layers import Conv2D, MaxPool2D\n",
        "from sklearn import metrics\n",
        "\n",
        "\n"
      ],
      "metadata": {
        "id": "GG3ZOXR-HI3P"
      },
      "execution_count": 21,
      "outputs": []
    },
    {
      "cell_type": "markdown",
      "source": [
        "**DECISION TREE**"
      ],
      "metadata": {
        "id": "FzqX26Wfato9"
      }
    },
    {
      "cell_type": "code",
      "source": [
        "decision_tree = DecisionTreeClassifier(max_depth=10, random_state=1234)\n",
        "decision_tree.fit(X_train, Y_train)\n",
        "y_val_pred = decision_tree.predict(X_test)\n"
      ],
      "metadata": {
        "id": "TkD0WZsYRhva"
      },
      "execution_count": 22,
      "outputs": []
    },
    {
      "cell_type": "code",
      "source": [
        "print(\"Accuracy:\",metrics.accuracy_score(Y_test, y_val_pred))"
      ],
      "metadata": {
        "colab": {
          "base_uri": "https://localhost:8080/"
        },
        "id": "Gdu50cvsRiXR",
        "outputId": "4c9186be-fd4e-4c47-9179-cedb3a7b3eb7"
      },
      "execution_count": 23,
      "outputs": [
        {
          "output_type": "stream",
          "name": "stdout",
          "text": [
            "Accuracy: 0.8052\n"
          ]
        }
      ]
    },
    {
      "cell_type": "markdown",
      "source": [
        "**RANDOM FOREST**"
      ],
      "metadata": {
        "id": "kivxZDgIa07f"
      }
    },
    {
      "cell_type": "code",
      "source": [
        "random_forest=RandomForestClassifier(n_estimators=100,max_depth=50)\n",
        "random_forest.fit(X_train,Y_train)\n",
        "y_pred_1=random_forest.predict(X_test)\n"
      ],
      "metadata": {
        "id": "MQsumNbdZdjU"
      },
      "execution_count": 24,
      "outputs": []
    },
    {
      "cell_type": "code",
      "source": [
        "print(\"Accuracy:\",metrics.accuracy_score(Y_test, y_pred_1))"
      ],
      "metadata": {
        "colab": {
          "base_uri": "https://localhost:8080/"
        },
        "id": "fJJKEjQqZduo",
        "outputId": "8c511872-7898-42f4-b3f1-ae49546dd1fa"
      },
      "execution_count": 25,
      "outputs": [
        {
          "output_type": "stream",
          "name": "stdout",
          "text": [
            "Accuracy: 0.8724\n"
          ]
        }
      ]
    },
    {
      "cell_type": "markdown",
      "source": [
        "**-LOGISTIG REGRESSION-**"
      ],
      "metadata": {
        "id": "7AUOiuL6ZEPD"
      }
    },
    {
      "cell_type": "code",
      "source": [
        "logistic_reg = LogisticRegression(C=100,solver='sag', tol= 0.1, multi_class='auto', max_iter=100 )\n",
        "logistic_reg.fit(X_train,Y_train)\n",
        "y_pred_2=logistic_reg.predict(X_test)"
      ],
      "metadata": {
        "id": "nYgvPmqbuq92"
      },
      "execution_count": 26,
      "outputs": []
    },
    {
      "cell_type": "code",
      "source": [
        "print(\"Accuracy:\",metrics.accuracy_score(Y_test, y_pred_2))\n"
      ],
      "metadata": {
        "colab": {
          "base_uri": "https://localhost:8080/"
        },
        "id": "MjsBgzMDv0o8",
        "outputId": "606190c6-5b99-4efb-86a9-dbd86432f876"
      },
      "execution_count": 27,
      "outputs": [
        {
          "output_type": "stream",
          "name": "stdout",
          "text": [
            "Accuracy: 0.8432\n"
          ]
        }
      ]
    },
    {
      "cell_type": "markdown",
      "source": [
        "**KNeighborsClassifier**"
      ],
      "metadata": {
        "id": "VsXtXzRia7BO"
      }
    },
    {
      "cell_type": "code",
      "source": [
        "KNN_model = KNeighborsClassifier(weights='distance',n_neighbors=5, p=2).fit(X_train, Y_train)\n",
        "y_pred_3= KNN_model.predict(X_test)"
      ],
      "metadata": {
        "id": "5g9evHKG-BHD"
      },
      "execution_count": 140,
      "outputs": []
    },
    {
      "cell_type": "code",
      "source": [
        "print(\"Accuracy:\",metrics.accuracy_score(Y_test, y_pred_3))\n"
      ],
      "metadata": {
        "colab": {
          "base_uri": "https://localhost:8080/"
        },
        "id": "6Zt2HPFn-g33",
        "outputId": "1e6f1b21-29cd-4cc1-99fb-992692409e53"
      },
      "execution_count": 141,
      "outputs": [
        {
          "output_type": "stream",
          "name": "stdout",
          "text": [
            "Accuracy: 0.8527\n"
          ]
        }
      ]
    },
    {
      "cell_type": "markdown",
      "source": [
        "**SVC**"
      ],
      "metadata": {
        "id": "Mngj_0LJcv2J"
      }
    },
    {
      "cell_type": "code",
      "source": [
        "from sklearn.svm import SVC\n",
        "from sklearn.preprocessing import StandardScaler\n",
        "from sklearn.model_selection import GridSearchCV\n"
      ],
      "metadata": {
        "id": "XP6Vg3N8cyEy"
      },
      "execution_count": 142,
      "outputs": []
    },
    {
      "cell_type": "code",
      "source": [
        "svcclassifier = SVC(C=1,kernel='linear')\n",
        "svcclassifier.fit(X_train,Y_train)\n",
        "Y_pred3 = svcclassifier.predict(X_test)"
      ],
      "metadata": {
        "id": "y9ZsLG7KLhVr"
      },
      "execution_count": 147,
      "outputs": []
    },
    {
      "cell_type": "code",
      "source": [
        "print(\"Accuracy:\",metrics.accuracy_score(Y_test, Y_pred3))"
      ],
      "metadata": {
        "colab": {
          "base_uri": "https://localhost:8080/"
        },
        "id": "kqjeyrILLmln",
        "outputId": "943a7dfa-2c51-43b1-9757-279d57726407"
      },
      "execution_count": 148,
      "outputs": [
        {
          "output_type": "stream",
          "name": "stdout",
          "text": [
            "Accuracy: 0.8258\n"
          ]
        }
      ]
    }
  ]
}